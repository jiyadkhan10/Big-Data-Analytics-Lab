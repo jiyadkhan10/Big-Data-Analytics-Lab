{
 "cells": [
  {
   "cell_type": "code",
   "execution_count": 2,
   "id": "219a8583",
   "metadata": {},
   "outputs": [
    {
     "name": "stdout",
     "output_type": "stream",
     "text": [
      "/usr/bin/python3\r\n"
     ]
    }
   ],
   "source": [
    "!which python3"
   ]
  },
  {
   "cell_type": "code",
   "execution_count": 3,
   "id": "468020a3",
   "metadata": {},
   "outputs": [],
   "source": [
    "from pyspark.sql import SparkSession\n",
    "from pyspark.sql import functions as F\n",
    "import os\n",
    "os.environ['PYSPARK_PYTHON']='/usr/bin/python3'"
   ]
  },
  {
   "cell_type": "code",
   "execution_count": 7,
   "id": "470ca5ca",
   "metadata": {},
   "outputs": [],
   "source": [
    "Jiyad_Spark_Context = SparkSession\\\n",
    "    .builder \\\n",
    "    .appName(\"JiyadKhan\") \\\n",
    "    .config(\"spark.mongodb.input.uri\",\"mongodb://127.0.0.1:27017/JiyadKhan.i19-1771\") \\\n",
    "    .config(\"spark.mongodb.output.uri\",\"mongodb://127.0.0.1:27017/JiyadKhan.i19-1771\") \\\n",
    "    .config('spark.jars.packages','org.mongodb.spark:mongo-spark-connector_2.12:3.0.0')\\\n",
    "    .getOrCreate()"
   ]
  },
  {
   "cell_type": "code",
   "execution_count": 9,
   "id": "fa1ee69b",
   "metadata": {},
   "outputs": [
    {
     "data": {
      "text/html": [
       "\n",
       "            <div>\n",
       "                <p><b>SparkSession - in-memory</b></p>\n",
       "                \n",
       "        <div>\n",
       "            <p><b>SparkContext</b></p>\n",
       "\n",
       "            <p><a href=\"http://localhost:4041\">Spark UI</a></p>\n",
       "\n",
       "            <dl>\n",
       "              <dt>Version</dt>\n",
       "                <dd><code>v3.1.1</code></dd>\n",
       "              <dt>Master</dt>\n",
       "                <dd><code>local[*]</code></dd>\n",
       "              <dt>AppName</dt>\n",
       "                <dd><code>JiyadKhan</code></dd>\n",
       "            </dl>\n",
       "        </div>\n",
       "        \n",
       "            </div>\n",
       "        "
      ],
      "text/plain": [
       "<pyspark.sql.session.SparkSession at 0x7fbfe82eec70>"
      ]
     },
     "execution_count": 9,
     "metadata": {},
     "output_type": "execute_result"
    }
   ],
   "source": [
    "Jiyad_Spark_Context"
   ]
  },
  {
   "cell_type": "code",
   "execution_count": 10,
   "id": "0ff33714",
   "metadata": {},
   "outputs": [],
   "source": [
    "absolute_file_path=\"students.csv\""
   ]
  },
  {
   "cell_type": "code",
   "execution_count": 11,
   "id": "80b9a5ee",
   "metadata": {},
   "outputs": [],
   "source": [
    "Jiyad_Spark_Context=SparkSession.builder.appName(\"CSV to DB\").master(\"local\").getOrCreate()"
   ]
  },
  {
   "cell_type": "code",
   "execution_count": 12,
   "id": "d32bc3c8",
   "metadata": {},
   "outputs": [],
   "source": [
    "df=Jiyad_Spark_Context.read.csv(header=True,inferSchema=True,path=absolute_file_path)"
   ]
  },
  {
   "cell_type": "code",
   "execution_count": 13,
   "id": "c11b8303",
   "metadata": {},
   "outputs": [
    {
     "data": {
      "text/plain": [
       "[Row(lname='DC', fname='Musa'),\n",
       " Row(lname='Wadood', fname='Ahmed'),\n",
       " Row(lname='Kamal', fname='Ali'),\n",
       " Row(lname='Mansoor', fname='Shayan'),\n",
       " Row(lname='Athar', fname='Mahreen')]"
      ]
     },
     "execution_count": 13,
     "metadata": {},
     "output_type": "execute_result"
    }
   ],
   "source": [
    "df.head(5)"
   ]
  },
  {
   "cell_type": "code",
   "execution_count": 14,
   "id": "adf4e6e4",
   "metadata": {},
   "outputs": [],
   "source": [
    "df=df.withColumn(\"name\",F.concat(F.col(\"fname\"),F.lit(\", \"),F.col(\"lname\")))"
   ]
  },
  {
   "cell_type": "code",
   "execution_count": 15,
   "id": "05154d31",
   "metadata": {},
   "outputs": [
    {
     "data": {
      "text/plain": [
       "[Row(lname='DC', fname='Musa', name='Musa, DC'),\n",
       " Row(lname='Wadood', fname='Ahmed', name='Ahmed, Wadood'),\n",
       " Row(lname='Kamal', fname='Ali', name='Ali, Kamal'),\n",
       " Row(lname='Mansoor', fname='Shayan', name='Shayan, Mansoor'),\n",
       " Row(lname='Athar', fname='Mahreen', name='Mahreen, Athar')]"
      ]
     },
     "execution_count": 15,
     "metadata": {},
     "output_type": "execute_result"
    }
   ],
   "source": [
    "df.head(5)"
   ]
  },
  {
   "cell_type": "code",
   "execution_count": 16,
   "id": "7ff7dc7f",
   "metadata": {},
   "outputs": [],
   "source": [
    "df.write.format(\"mongo\").mode(\"append\").save()"
   ]
  },
  {
   "cell_type": "code",
   "execution_count": 17,
   "id": "b30dfce8",
   "metadata": {},
   "outputs": [],
   "source": [
    "new_df=Jiyad_Spark_Context.read.format(\"mongo\").load()"
   ]
  },
  {
   "cell_type": "code",
   "execution_count": 18,
   "id": "07b01f21",
   "metadata": {},
   "outputs": [
    {
     "data": {
      "text/plain": [
       "[Row(_id=Row(oid='60b54f397a0f7d19d2e27c93'), fname='Musa', lname='DC', name='Musa, DC'),\n",
       " Row(_id=Row(oid='60b54f397a0f7d19d2e27c94'), fname='Ahmed', lname='Wadood', name='Ahmed, Wadood'),\n",
       " Row(_id=Row(oid='60b54f397a0f7d19d2e27c95'), fname='Ali', lname='Kamal', name='Ali, Kamal'),\n",
       " Row(_id=Row(oid='60b54f397a0f7d19d2e27c96'), fname='Shayan', lname='Mansoor', name='Shayan, Mansoor'),\n",
       " Row(_id=Row(oid='60b54f397a0f7d19d2e27c97'), fname='Mahreen', lname='Athar', name='Mahreen, Athar')]"
      ]
     },
     "execution_count": 18,
     "metadata": {},
     "output_type": "execute_result"
    }
   ],
   "source": [
    "new_df.head(5)"
   ]
  },
  {
   "cell_type": "code",
   "execution_count": 19,
   "id": "643d4da0",
   "metadata": {},
   "outputs": [
    {
     "name": "stdout",
     "output_type": "stream",
     "text": [
      "+--------------------+---------+-------+-----------------+\n",
      "|                 _id|    fname|  lname|             name|\n",
      "+--------------------+---------+-------+-----------------+\n",
      "|{60b54f397a0f7d19...|     Musa|     DC|         Musa, DC|\n",
      "|{60b54f397a0f7d19...|    Ahmed| Wadood|    Ahmed, Wadood|\n",
      "|{60b54f397a0f7d19...|      Ali|  Kamal|       Ali, Kamal|\n",
      "|{60b54f397a0f7d19...|   Shayan|Mansoor|  Shayan, Mansoor|\n",
      "|{60b54f397a0f7d19...|  Mahreen|  Athar|   Mahreen, Athar|\n",
      "|{60b54f397a0f7d19...|Saifullah| Rahool|Saifullah, Rahool|\n",
      "|{60b54f397a0f7d19...|    Arsal|  Ahmad|     Arsal, Ahmad|\n",
      "+--------------------+---------+-------+-----------------+\n",
      "\n"
     ]
    }
   ],
   "source": [
    "new_df.show()"
   ]
  },
  {
   "cell_type": "code",
   "execution_count": 21,
   "id": "4d8da8f1",
   "metadata": {},
   "outputs": [],
   "source": [
    "Jiyad_Spark_Context.stop()"
   ]
  },
  {
   "cell_type": "code",
   "execution_count": null,
   "id": "c7fd9465",
   "metadata": {},
   "outputs": [],
   "source": []
  }
 ],
 "metadata": {
  "kernelspec": {
   "display_name": "Python 3",
   "language": "python",
   "name": "python3"
  },
  "language_info": {
   "codemirror_mode": {
    "name": "ipython",
    "version": 3
   },
   "file_extension": ".py",
   "mimetype": "text/x-python",
   "name": "python",
   "nbconvert_exporter": "python",
   "pygments_lexer": "ipython3",
   "version": "3.8.5"
  }
 },
 "nbformat": 4,
 "nbformat_minor": 5
}
