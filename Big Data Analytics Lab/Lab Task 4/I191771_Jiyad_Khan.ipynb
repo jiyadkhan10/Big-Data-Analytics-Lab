{
 "cells": [
  {
   "cell_type": "markdown",
   "metadata": {},
   "source": [
    "# BDA Lab 4 (Web Scraping)"
   ]
  },
  {
   "cell_type": "markdown",
   "metadata": {},
   "source": [
    "# Student Name:  Jiyad Khan\n",
    "# Student ID: 19I-1771"
   ]
  },
  {
   "cell_type": "markdown",
   "metadata": {},
   "source": [
    "# Task -1\n",
    "##### From: https://www.bloomberg.com/graphics/2019-tesla-model-3-survey/\n",
    "##### Copy X-Path Selector for Jan 2018 and paste in the cell below in Student_Solution variable leave Correct_Solution as it is"
   ]
  },
  {
   "cell_type": "code",
   "execution_count": 51,
   "metadata": {},
   "outputs": [],
   "source": [
    "Student_Solution = '//*[@id=\"dvz-defects-summary\"]/div[2]/div[3]/svg/g/g[3]/g[2]/rect[1]'\n",
    "Correct_Solution = ''"
   ]
  },
  {
   "cell_type": "code",
   "execution_count": 52,
   "metadata": {},
   "outputs": [
    {
     "name": "stdout",
     "output_type": "stream",
     "text": [
      "Fail\n"
     ]
    }
   ],
   "source": [
    "if Student_Solution == Correct_Solution:\n",
    "    print(\"Pass\")\n",
    "else:\n",
    "    print(\"Fail\")\n",
    "    \n"
   ]
  },
  {
   "cell_type": "markdown",
   "metadata": {},
   "source": [
    "# Task-2"
   ]
  },
  {
   "cell_type": "markdown",
   "metadata": {},
   "source": [
    "### An example html page is loaded into a soup object yo are required to do the following tasks"
   ]
  },
  {
   "cell_type": "markdown",
   "metadata": {},
   "source": [
    "- Select the Title Tag\n",
    "- Select an H1 Tag\n",
    "- Select an  Element (li)\n",
    "- Select all li Elements\n",
    "- Selecting with an ID vin3827 (use .find method of soup first arg is li second arg is dict with id and value as keypair)\n",
    "- Select with a CSS Class\n",
    "- Select all the li tags having the class 'auto-listing' using select\n",
    "- Combined Selectors\n",
    "- XPath"
   ]
  },
  {
   "cell_type": "code",
   "execution_count": 53,
   "metadata": {},
   "outputs": [],
   "source": [
    "example = open(\"example.html\",\"r\")\n",
    "contents = example.read()\n",
    "example.close()"
   ]
  },
  {
   "cell_type": "code",
   "execution_count": 54,
   "metadata": {
    "jupyter": {
     "outputs_hidden": true
    }
   },
   "outputs": [
    {
     "name": "stdout",
     "output_type": "stream",
     "text": [
      "<!DOCTYPE html>\n",
      "<html>\n",
      " <head>\n",
      "  <title>\n",
      "   Car Buying Web Page\n",
      "  </title>\n",
      "  <link href=\"example.css\" rel=\"stylesheet\" type=\"text/css\"/>\n",
      " </head>\n",
      " <body>\n",
      "  <h1 id=\"main-page-title\">\n",
      "   Used Tesla Cars in Your Area\n",
      "  </h1>\n",
      "  <ul class=\"listings\">\n",
      "   <li class=\"auto-listing\" id=\"vin3827\">\n",
      "    <div>\n",
      "     <h2 class=\"model\">\n",
      "      2017 Tesla Model 3\n",
      "     </h2>\n",
      "     <p class=\"price\">\n",
      "      $34,586\n",
      "     </p>\n",
      "     <p class=\"description\">\n",
      "      A wonderful car and a great deal.\n",
      "     </p>\n",
      "    </div>\n",
      "   </li>\n",
      "   <li class=\"auto-listing\" id=\"vin9381\">\n",
      "    <div>\n",
      "     <h2 class=\"model\">\n",
      "      2019 Tesla Model 3\n",
      "     </h2>\n",
      "     <p class=\"price\">\n",
      "      $37,938\n",
      "     </p>\n",
      "     <p class=\"description\">\n",
      "      Great deal. Low mileage.\n",
      "     </p>\n",
      "    </div>\n",
      "   </li>\n",
      "   <li class=\"auto-listing\" id=\"vin2938\">\n",
      "    <div>\n",
      "     <h2 class=\"model\">\n",
      "      2018 Tesla Model 3\n",
      "     </h2>\n",
      "     <p class=\"price\">\n",
      "      $36,263\n",
      "     </p>\n",
      "     <p class=\"description\">\n",
      "      Bright red. Attract attention.\n",
      "     </p>\n",
      "    </div>\n",
      "   </li>\n",
      "  </ul>\n",
      "  <div class=\"scratchpad\">\n",
      "   <textarea class=\"edit-box\" rows=\"2\"></textarea>\n",
      "  </div>\n",
      " </body>\n",
      "</html>\n"
     ]
    }
   ],
   "source": [
    "from bs4 import BeautifulSoup\n",
    "soup = BeautifulSoup(contents)\n",
    "print(soup.prettify())"
   ]
  },
  {
   "cell_type": "markdown",
   "metadata": {},
   "source": [
    "### Task-2-1 (Select the Title Tag)"
   ]
  },
  {
   "cell_type": "code",
   "execution_count": 55,
   "metadata": {},
   "outputs": [
    {
     "data": {
      "text/plain": [
       "<title>Car Buying Web Page</title>"
      ]
     },
     "execution_count": 55,
     "metadata": {},
     "output_type": "execute_result"
    }
   ],
   "source": [
    "# Solution here\n",
    "title = soup.title\n",
    "title"
   ]
  },
  {
   "cell_type": "markdown",
   "metadata": {},
   "source": [
    "### Task-2-2 (Select an H1 Tag)"
   ]
  },
  {
   "cell_type": "code",
   "execution_count": 56,
   "metadata": {},
   "outputs": [
    {
     "data": {
      "text/plain": [
       "<h1 id=\"main-page-title\">Used Tesla Cars in Your Area</h1>"
      ]
     },
     "execution_count": 56,
     "metadata": {},
     "output_type": "execute_result"
    }
   ],
   "source": [
    "# Solution here\n",
    "h1 = soup.h1\n",
    "h1"
   ]
  },
  {
   "cell_type": "markdown",
   "metadata": {},
   "source": [
    "### Task-2-3 (Select an Element (li))"
   ]
  },
  {
   "cell_type": "code",
   "execution_count": 57,
   "metadata": {},
   "outputs": [
    {
     "data": {
      "text/plain": [
       "<li class=\"auto-listing\" id=\"vin3827\">\n",
       "<div>\n",
       "<h2 class=\"model\">2017 Tesla Model 3</h2>\n",
       "<p class=\"price\">$34,586</p>\n",
       "<p class=\"description\">\n",
       "                A wonderful car and a great deal.</p>\n",
       "</div>\n",
       "</li>"
      ]
     },
     "execution_count": 57,
     "metadata": {},
     "output_type": "execute_result"
    }
   ],
   "source": [
    "# Solution here\n",
    "element = soup.li\n",
    "element"
   ]
  },
  {
   "cell_type": "markdown",
   "metadata": {},
   "source": [
    "### Task 2-4 (Select all li Elements)"
   ]
  },
  {
   "cell_type": "code",
   "execution_count": 58,
   "metadata": {},
   "outputs": [
    {
     "data": {
      "text/plain": [
       "[<li class=\"auto-listing\" id=\"vin3827\">\n",
       " <div>\n",
       " <h2 class=\"model\">2017 Tesla Model 3</h2>\n",
       " <p class=\"price\">$34,586</p>\n",
       " <p class=\"description\">\n",
       "                 A wonderful car and a great deal.</p>\n",
       " </div>\n",
       " </li>,\n",
       " <li class=\"auto-listing\" id=\"vin9381\">\n",
       " <div>\n",
       " <h2 class=\"model\">2019 Tesla Model 3</h2>\n",
       " <p class=\"price\">$37,938</p>\n",
       " <p class=\"description\">\n",
       "                 Great deal. Low mileage.</p>\n",
       " </div>\n",
       " </li>,\n",
       " <li class=\"auto-listing\" id=\"vin2938\">\n",
       " <div>\n",
       " <h2 class=\"model\">2018 Tesla Model 3</h2>\n",
       " <p class=\"price\">$36,263</p>\n",
       " <p class=\"description\">\n",
       "                 Bright red. Attract attention.</p>\n",
       " </div>\n",
       " </li>]"
      ]
     },
     "execution_count": 58,
     "metadata": {},
     "output_type": "execute_result"
    }
   ],
   "source": [
    "# Solution here\n",
    "all_element = soup.find_all('li')\n",
    "all_element"
   ]
  },
  {
   "cell_type": "markdown",
   "metadata": {},
   "source": [
    "### Task-2-5 (Selecting with an ID vin3827 )"
   ]
  },
  {
   "cell_type": "code",
   "execution_count": 59,
   "metadata": {},
   "outputs": [
    {
     "data": {
      "text/plain": [
       "<li class=\"auto-listing\" id=\"vin3827\">\n",
       "<div>\n",
       "<h2 class=\"model\">2017 Tesla Model 3</h2>\n",
       "<p class=\"price\">$34,586</p>\n",
       "<p class=\"description\">\n",
       "                A wonderful car and a great deal.</p>\n",
       "</div>\n",
       "</li>"
      ]
     },
     "execution_count": 59,
     "metadata": {},
     "output_type": "execute_result"
    }
   ],
   "source": [
    "# Solution Here\n",
    "id_vin = soup.find('li', id = 'vin3827')\n",
    "id_vin"
   ]
  },
  {
   "cell_type": "markdown",
   "metadata": {},
   "source": [
    "### Task-2-6 (Select all the li's that has ul as the parent class  using CSS selector mechanism)\n",
    "##### Hint: use .select method of soup object"
   ]
  },
  {
   "cell_type": "code",
   "execution_count": 60,
   "metadata": {},
   "outputs": [
    {
     "data": {
      "text/plain": [
       "[<li class=\"auto-listing\" id=\"vin3827\">\n",
       " <div>\n",
       " <h2 class=\"model\">2017 Tesla Model 3</h2>\n",
       " <p class=\"price\">$34,586</p>\n",
       " <p class=\"description\">\n",
       "                 A wonderful car and a great deal.</p>\n",
       " </div>\n",
       " </li>,\n",
       " <li class=\"auto-listing\" id=\"vin9381\">\n",
       " <div>\n",
       " <h2 class=\"model\">2019 Tesla Model 3</h2>\n",
       " <p class=\"price\">$37,938</p>\n",
       " <p class=\"description\">\n",
       "                 Great deal. Low mileage.</p>\n",
       " </div>\n",
       " </li>,\n",
       " <li class=\"auto-listing\" id=\"vin2938\">\n",
       " <div>\n",
       " <h2 class=\"model\">2018 Tesla Model 3</h2>\n",
       " <p class=\"price\">$36,263</p>\n",
       " <p class=\"description\">\n",
       "                 Bright red. Attract attention.</p>\n",
       " </div>\n",
       " </li>]"
      ]
     },
     "execution_count": 60,
     "metadata": {},
     "output_type": "execute_result"
    }
   ],
   "source": [
    "# Solution Here\n",
    "soup.select('ul li')"
   ]
  },
  {
   "cell_type": "markdown",
   "metadata": {},
   "source": [
    "##### To get a specific element from the list of li's use"
   ]
  },
  {
   "cell_type": "code",
   "execution_count": 61,
   "metadata": {},
   "outputs": [
    {
     "data": {
      "text/plain": [
       "<li class=\"auto-listing\" id=\"vin2938\">\n",
       "<div>\n",
       "<h2 class=\"model\">2018 Tesla Model 3</h2>\n",
       "<p class=\"price\">$36,263</p>\n",
       "<p class=\"description\">\n",
       "                Bright red. Attract attention.</p>\n",
       "</div>\n",
       "</li>"
      ]
     },
     "execution_count": 61,
     "metadata": {},
     "output_type": "execute_result"
    }
   ],
   "source": [
    "soup.find_all('li')[2]"
   ]
  },
  {
   "cell_type": "markdown",
   "metadata": {},
   "source": [
    "##### Here is another way to target an element with a specific id"
   ]
  },
  {
   "cell_type": "code",
   "execution_count": 62,
   "metadata": {},
   "outputs": [],
   "source": [
    "tag = soup.select('li#vin3827')[0]"
   ]
  },
  {
   "cell_type": "code",
   "execution_count": 63,
   "metadata": {},
   "outputs": [
    {
     "data": {
      "text/plain": [
       "<li class=\"auto-listing\" id=\"vin3827\">\n",
       "<div>\n",
       "<h2 class=\"model\">2017 Tesla Model 3</h2>\n",
       "<p class=\"price\">$34,586</p>\n",
       "<p class=\"description\">\n",
       "                A wonderful car and a great deal.</p>\n",
       "</div>\n",
       "</li>"
      ]
     },
     "execution_count": 63,
     "metadata": {},
     "output_type": "execute_result"
    }
   ],
   "source": [
    "tag"
   ]
  },
  {
   "cell_type": "markdown",
   "metadata": {},
   "source": [
    "##### Now you can easily select the parent of that tag i.e. ul"
   ]
  },
  {
   "cell_type": "code",
   "execution_count": 64,
   "metadata": {},
   "outputs": [
    {
     "data": {
      "text/plain": [
       "<ul class=\"listings\">\n",
       "<li class=\"auto-listing\" id=\"vin3827\">\n",
       "<div>\n",
       "<h2 class=\"model\">2017 Tesla Model 3</h2>\n",
       "<p class=\"price\">$34,586</p>\n",
       "<p class=\"description\">\n",
       "                A wonderful car and a great deal.</p>\n",
       "</div>\n",
       "</li>\n",
       "<li class=\"auto-listing\" id=\"vin9381\">\n",
       "<div>\n",
       "<h2 class=\"model\">2019 Tesla Model 3</h2>\n",
       "<p class=\"price\">$37,938</p>\n",
       "<p class=\"description\">\n",
       "                Great deal. Low mileage.</p>\n",
       "</div>\n",
       "</li>\n",
       "<li class=\"auto-listing\" id=\"vin2938\">\n",
       "<div>\n",
       "<h2 class=\"model\">2018 Tesla Model 3</h2>\n",
       "<p class=\"price\">$36,263</p>\n",
       "<p class=\"description\">\n",
       "                Bright red. Attract attention.</p>\n",
       "</div>\n",
       "</li>\n",
       "</ul>"
      ]
     },
     "execution_count": 64,
     "metadata": {},
     "output_type": "execute_result"
    }
   ],
   "source": [
    "tag.parent"
   ]
  },
  {
   "cell_type": "markdown",
   "metadata": {},
   "source": [
    "### Task-2-7 \n",
    "##### Select all the li tags having the class 'auto-listing' using select"
   ]
  },
  {
   "cell_type": "code",
   "execution_count": 65,
   "metadata": {},
   "outputs": [
    {
     "data": {
      "text/plain": [
       "[<li class=\"auto-listing\" id=\"vin3827\">\n",
       " <div>\n",
       " <h2 class=\"model\">2017 Tesla Model 3</h2>\n",
       " <p class=\"price\">$34,586</p>\n",
       " <p class=\"description\">\n",
       "                 A wonderful car and a great deal.</p>\n",
       " </div>\n",
       " </li>,\n",
       " <li class=\"auto-listing\" id=\"vin9381\">\n",
       " <div>\n",
       " <h2 class=\"model\">2019 Tesla Model 3</h2>\n",
       " <p class=\"price\">$37,938</p>\n",
       " <p class=\"description\">\n",
       "                 Great deal. Low mileage.</p>\n",
       " </div>\n",
       " </li>,\n",
       " <li class=\"auto-listing\" id=\"vin2938\">\n",
       " <div>\n",
       " <h2 class=\"model\">2018 Tesla Model 3</h2>\n",
       " <p class=\"price\">$36,263</p>\n",
       " <p class=\"description\">\n",
       "                 Bright red. Attract attention.</p>\n",
       " </div>\n",
       " </li>]"
      ]
     },
     "execution_count": 65,
     "metadata": {},
     "output_type": "execute_result"
    }
   ],
   "source": [
    "# Solution Here\n",
    "soup.select('.auto-listing')"
   ]
  },
  {
   "cell_type": "markdown",
   "metadata": {},
   "source": [
    "##### We can also get the parent and all its contents of a specific id using:"
   ]
  },
  {
   "cell_type": "code",
   "execution_count": 66,
   "metadata": {},
   "outputs": [
    {
     "data": {
      "text/plain": [
       "<ul class=\"listings\">\n",
       "<li class=\"auto-listing\" id=\"vin3827\">\n",
       "<div>\n",
       "<h2 class=\"model\">2017 Tesla Model 3</h2>\n",
       "<p class=\"price\">$34,586</p>\n",
       "<p class=\"description\">\n",
       "                A wonderful car and a great deal.</p>\n",
       "</div>\n",
       "</li>\n",
       "<li class=\"auto-listing\" id=\"vin9381\">\n",
       "<div>\n",
       "<h2 class=\"model\">2019 Tesla Model 3</h2>\n",
       "<p class=\"price\">$37,938</p>\n",
       "<p class=\"description\">\n",
       "                Great deal. Low mileage.</p>\n",
       "</div>\n",
       "</li>\n",
       "<li class=\"auto-listing\" id=\"vin2938\">\n",
       "<div>\n",
       "<h2 class=\"model\">2018 Tesla Model 3</h2>\n",
       "<p class=\"price\">$36,263</p>\n",
       "<p class=\"description\">\n",
       "                Bright red. Attract attention.</p>\n",
       "</div>\n",
       "</li>\n",
       "</ul>"
      ]
     },
     "execution_count": 66,
     "metadata": {},
     "output_type": "execute_result"
    }
   ],
   "source": [
    "soup.select_one('#vin3827').parent"
   ]
  },
  {
   "cell_type": "markdown",
   "metadata": {},
   "source": [
    "# Lets Scrape a Real Website"
   ]
  },
  {
   "cell_type": "code",
   "execution_count": 67,
   "metadata": {},
   "outputs": [],
   "source": [
    "import requests\n",
    "from bs4 import BeautifulSoup\n",
    "import pandas as pd"
   ]
  },
  {
   "cell_type": "code",
   "execution_count": 68,
   "metadata": {},
   "outputs": [
    {
     "ename": "UnicodeEncodeError",
     "evalue": "'charmap' codec can't encode character '\\u016b' in position 199704: character maps to <undefined>",
     "output_type": "error",
     "traceback": [
      "\u001b[1;31m---------------------------------------------------------------------------\u001b[0m",
      "\u001b[1;31mUnicodeEncodeError\u001b[0m                        Traceback (most recent call last)",
      "\u001b[1;32m<ipython-input-68-7604baf8970e>\u001b[0m in \u001b[0;36m<module>\u001b[1;34m\u001b[0m\n\u001b[0;32m     11\u001b[0m \u001b[1;32mwith\u001b[0m \u001b[0mopen\u001b[0m\u001b[1;33m(\u001b[0m\u001b[1;34m'downloaded.html'\u001b[0m\u001b[1;33m,\u001b[0m \u001b[1;34m'w'\u001b[0m\u001b[1;33m)\u001b[0m \u001b[1;32mas\u001b[0m \u001b[0mfile\u001b[0m\u001b[1;33m:\u001b[0m\u001b[1;33m\u001b[0m\u001b[1;33m\u001b[0m\u001b[0m\n\u001b[0;32m     12\u001b[0m     \u001b[1;31m# Depending on the HTML page, on the next line, you may have to use soup.prettify().encode('UTF-8')\u001b[0m\u001b[1;33m\u001b[0m\u001b[1;33m\u001b[0m\u001b[1;33m\u001b[0m\u001b[0m\n\u001b[1;32m---> 13\u001b[1;33m     \u001b[0mfile\u001b[0m\u001b[1;33m.\u001b[0m\u001b[0mwrite\u001b[0m\u001b[1;33m(\u001b[0m\u001b[0msoup\u001b[0m\u001b[1;33m.\u001b[0m\u001b[0mprettify\u001b[0m\u001b[1;33m(\u001b[0m\u001b[1;33m)\u001b[0m\u001b[1;33m)\u001b[0m\u001b[1;33m\u001b[0m\u001b[1;33m\u001b[0m\u001b[0m\n\u001b[0m",
      "\u001b[1;32m~\\anaconda3\\lib\\encodings\\cp1252.py\u001b[0m in \u001b[0;36mencode\u001b[1;34m(self, input, final)\u001b[0m\n\u001b[0;32m     17\u001b[0m \u001b[1;32mclass\u001b[0m \u001b[0mIncrementalEncoder\u001b[0m\u001b[1;33m(\u001b[0m\u001b[0mcodecs\u001b[0m\u001b[1;33m.\u001b[0m\u001b[0mIncrementalEncoder\u001b[0m\u001b[1;33m)\u001b[0m\u001b[1;33m:\u001b[0m\u001b[1;33m\u001b[0m\u001b[1;33m\u001b[0m\u001b[0m\n\u001b[0;32m     18\u001b[0m     \u001b[1;32mdef\u001b[0m \u001b[0mencode\u001b[0m\u001b[1;33m(\u001b[0m\u001b[0mself\u001b[0m\u001b[1;33m,\u001b[0m \u001b[0minput\u001b[0m\u001b[1;33m,\u001b[0m \u001b[0mfinal\u001b[0m\u001b[1;33m=\u001b[0m\u001b[1;32mFalse\u001b[0m\u001b[1;33m)\u001b[0m\u001b[1;33m:\u001b[0m\u001b[1;33m\u001b[0m\u001b[1;33m\u001b[0m\u001b[0m\n\u001b[1;32m---> 19\u001b[1;33m         \u001b[1;32mreturn\u001b[0m \u001b[0mcodecs\u001b[0m\u001b[1;33m.\u001b[0m\u001b[0mcharmap_encode\u001b[0m\u001b[1;33m(\u001b[0m\u001b[0minput\u001b[0m\u001b[1;33m,\u001b[0m\u001b[0mself\u001b[0m\u001b[1;33m.\u001b[0m\u001b[0merrors\u001b[0m\u001b[1;33m,\u001b[0m\u001b[0mencoding_table\u001b[0m\u001b[1;33m)\u001b[0m\u001b[1;33m[\u001b[0m\u001b[1;36m0\u001b[0m\u001b[1;33m]\u001b[0m\u001b[1;33m\u001b[0m\u001b[1;33m\u001b[0m\u001b[0m\n\u001b[0m\u001b[0;32m     20\u001b[0m \u001b[1;33m\u001b[0m\u001b[0m\n\u001b[0;32m     21\u001b[0m \u001b[1;32mclass\u001b[0m \u001b[0mIncrementalDecoder\u001b[0m\u001b[1;33m(\u001b[0m\u001b[0mcodecs\u001b[0m\u001b[1;33m.\u001b[0m\u001b[0mIncrementalDecoder\u001b[0m\u001b[1;33m)\u001b[0m\u001b[1;33m:\u001b[0m\u001b[1;33m\u001b[0m\u001b[1;33m\u001b[0m\u001b[0m\n",
      "\u001b[1;31mUnicodeEncodeError\u001b[0m: 'charmap' codec can't encode character '\\u016b' in position 199704: character maps to <undefined>"
     ]
    }
   ],
   "source": [
    "# Download and parse the HTML\n",
    "start_url = 'https://en.wikipedia.org/wiki/Tesla,_Inc.'\n",
    "\n",
    "# Download the HTML from start_url\n",
    "downloaded_html = requests.get(start_url)\n",
    "\n",
    "# Parse the HTML with BeautifulSoup and create a soup object\n",
    "soup = BeautifulSoup(downloaded_html.text)\n",
    "\n",
    "# Save a local copy\n",
    "with open('downloaded.html', 'w') as file:\n",
    "    # Depending on the HTML page, on the next line, you may have to use soup.prettify().encode('UTF-8')\n",
    "    file.write(soup.prettify())\n"
   ]
  },
  {
   "cell_type": "markdown",
   "metadata": {},
   "source": [
    "##### Open your downloaded.html file from anaconda enviornment"
   ]
  },
  {
   "cell_type": "markdown",
   "metadata": {},
   "source": [
    "##### Remember the choice of which selectors to use is upto you i.e. the data that you are interested in"
   ]
  },
  {
   "cell_type": "code",
   "execution_count": 69,
   "metadata": {},
   "outputs": [
    {
     "name": "stdout",
     "output_type": "stream",
     "text": [
      "<tbody><tr>\n",
      "<th>Joined\n",
      "</th>\n",
      "<th>Name\n",
      "</th>\n",
      "<th>Titles\n",
      "</th>\n",
      "<th><a href=\"/wiki/Independent_director\" title=\"Independent director\">Independent</a>\n",
      "</th>\n",
      "<th>Notes\n",
      "</th></tr>\n",
      "<tr>\n",
      "<td>2014<sup class=\"reference\" id=\"cite_ref-76\"><a href=\"#cite_note-76\">[76]</a></sup>\n",
      "</td>\n",
      "<td><a href=\"/wiki/Robyn_Denholm\" title=\"Robyn Denholm\">Robyn Denholm</a>\n",
      "</td>\n",
      "<td>Full-time Chairwoman of Tesla, Inc.; former CFO and Head of Strategy of <a href=\"/wiki/Telstra\" title=\"Telstra\">Telstra</a><sup class=\"reference\" id=\"cite_ref-cleantech_denholm_2018_77-0\"><a href=\"#cite_note-cleantech_denholm_2018-77\">[77]</a></sup>\n",
      "</td>\n",
      "<td>Yes\n",
      "</td>\n",
      "<td>As of March 2020, Denholm is the only Board member with automotive experience besides Musk.<sup class=\"reference\" id=\"cite_ref-78\"><a href=\"#cite_note-78\">[78]</a></sup> (Denholm served in finance and corporate reporting roles at Toyota Motor Corporation Australia from 1989–1996.)<sup class=\"reference\" id=\"cite_ref-cleantech_denholm_2018_77-1\"><a href=\"#cite_note-cleantech_denholm_2018-77\">[77]</a></sup>\n",
      "</td></tr>\n",
      "<tr>\n",
      "<td>2004<sup class=\"reference\" id=\"cite_ref-:0_7-5\"><a href=\"#cite_note-:0-7\">[7]</a></sup>\n",
      "</td>\n",
      "<td><a href=\"/wiki/Elon_Musk\" title=\"Elon Musk\">Elon Musk</a>\n",
      "</td>\n",
      "<td>Co-founder, CEO and <a href=\"/wiki/Chief_product_officer\" title=\"Chief product officer\">Product Architect</a> of Tesla; founder, CEO and CTO of <a href=\"/wiki/SpaceX\" title=\"SpaceX\">SpaceX</a>; former Chairman of Tesla, Inc.; former Chairman of <a href=\"/wiki/SolarCity\" title=\"SolarCity\">SolarCity</a>\n",
      "</td>\n",
      "<td>No\n",
      "</td>\n",
      "<td>\n",
      "</td></tr>\n",
      "<tr>\n",
      "<td>2004<sup class=\"reference\" id=\"cite_ref-Rapier2018_79-0\"><a href=\"#cite_note-Rapier2018-79\">[79]</a></sup>\n",
      "</td>\n",
      "<td><a href=\"/wiki/Kimbal_Musk\" title=\"Kimbal Musk\">Kimbal Musk</a>\n",
      "</td>\n",
      "<td>Board member, <a href=\"/wiki/SpaceX\" title=\"SpaceX\">SpaceX</a><sup class=\"reference\" id=\"cite_ref-80\"><a href=\"#cite_note-80\">[80]</a></sup>\n",
      "</td>\n",
      "<td>No\n",
      "</td>\n",
      "<td>\n",
      "</td></tr>\n",
      "<tr>\n",
      "<td>2007<sup class=\"reference\" id=\"cite_ref-81\"><a href=\"#cite_note-81\">[81]</a></sup>\n",
      "</td>\n",
      "<td>Ira Ehrenpreis\n",
      "</td>\n",
      "<td>General Partner at Technology Partners<sup class=\"reference\" id=\"cite_ref-GTM_BOD_2019_73-1\"><a href=\"#cite_note-GTM_BOD_2019-73\">[73]</a></sup>\n",
      "</td>\n",
      "<td>Disputed<sup class=\"reference\" id=\"cite_ref-:14_68-1\"><a href=\"#cite_note-:14-68\">[68]</a></sup>\n",
      "</td>\n",
      "<td>\n",
      "</td></tr>\n",
      "<tr>\n",
      "<td>2007<sup class=\"reference\" id=\"cite_ref-Rapier2018_79-1\"><a href=\"#cite_note-Rapier2018-79\">[79]</a></sup>\n",
      "</td>\n",
      "<td>Antonio J. Gracias\n",
      "</td>\n",
      "<td>CEO and Chairman of the Investment Committee at Valor Equity Partners<sup class=\"reference\" id=\"cite_ref-82\"><a href=\"#cite_note-82\">[82]</a></sup>\n",
      "</td>\n",
      "<td>Disputed<sup class=\"reference\" id=\"cite_ref-:14_68-2\"><a href=\"#cite_note-:14-68\">[68]</a></sup>\n",
      "</td>\n",
      "<td>Has agreed not to stand for re-election when his term expires on June 11, 2021.<sup class=\"reference\" id=\"cite_ref-Edgar2019_83-0\"><a href=\"#cite_note-Edgar2019-83\">[83]</a></sup>\n",
      "</td></tr>\n",
      "<tr>\n",
      "<td>2017<sup class=\"reference\" id=\"cite_ref-GTM_BOD_2019_73-2\"><a href=\"#cite_note-GTM_BOD_2019-73\">[73]</a></sup>\n",
      "</td>\n",
      "<td><a href=\"/wiki/James_Murdoch\" title=\"James Murdoch\">James Murdoch</a>\n",
      "</td>\n",
      "<td>Former CEO of <a href=\"/wiki/21st_Century_Fox\" title=\"21st Century Fox\">21st Century Fox</a><sup class=\"reference\" id=\"cite_ref-GTM_BOD_2019_73-3\"><a href=\"#cite_note-GTM_BOD_2019-73\">[73]</a></sup>\n",
      "</td>\n",
      "<td>Yes\n",
      "</td>\n",
      "<td>\n",
      "</td></tr>\n",
      "<tr>\n",
      "<td>2018<sup class=\"reference\" id=\"cite_ref-BI_BOD_2018_70-1\"><a href=\"#cite_note-BI_BOD_2018-70\">[70]</a></sup>\n",
      "</td>\n",
      "<td><a href=\"/wiki/Larry_Ellison\" title=\"Larry Ellison\">Larry Ellison</a>\n",
      "</td>\n",
      "<td>Co-founder, Chairman and CTO of <a href=\"/wiki/Oracle_Corporation\" title=\"Oracle Corporation\">Oracle Corporation</a><sup class=\"reference\" id=\"cite_ref-GTM_BOD_2019_73-4\"><a href=\"#cite_note-GTM_BOD_2019-73\">[73]</a></sup>\n",
      "</td>\n",
      "<td>Yes\n",
      "</td>\n",
      "<td>\n",
      "</td></tr>\n",
      "<tr>\n",
      "<td>2018<sup class=\"reference\" id=\"cite_ref-BI_BOD_2018_70-2\"><a href=\"#cite_note-BI_BOD_2018-70\">[70]</a></sup>\n",
      "</td>\n",
      "<td><a href=\"/wiki/Kathleen_Wilson-Thompson\" title=\"Kathleen Wilson-Thompson\">Kathleen Wilson-Thompson</a>\n",
      "</td>\n",
      "<td>Global head of Human Resources of <a href=\"/wiki/Walgreens_Boots_Alliance\" title=\"Walgreens Boots Alliance\">Walgreens Boots Alliance</a><sup class=\"reference\" id=\"cite_ref-BI_BOD_2018_70-3\"><a href=\"#cite_note-BI_BOD_2018-70\">[70]</a></sup>\n",
      "</td>\n",
      "<td>Yes\n",
      "</td>\n",
      "<td>\n",
      "</td></tr>\n",
      "<tr>\n",
      "<td>2020<sup class=\"reference\" id=\"cite_ref-84\"><a href=\"#cite_note-84\">[84]</a></sup>\n",
      "</td>\n",
      "<td><a href=\"/wiki/Hiromichi_Mizuno\" title=\"Hiromichi Mizuno\">Hiromichi Mizuno</a>\n",
      "</td>\n",
      "<td>United Nations Special Envoy on Innovative Finance and Sustainable Investments; former executive managing director and chief investment officer of <a href=\"/wiki/Government_Pension_Investment_Fund\" title=\"Government Pension Investment Fund\">Japan's Government Pension Investment Fund</a><sup class=\"reference\" id=\"cite_ref-85\"><a href=\"#cite_note-85\">[85]</a></sup>\n",
      "</td>\n",
      "<td>Yes\n",
      "</td>\n",
      "<td>\n",
      "</td></tr></tbody>\n"
     ]
    }
   ],
   "source": [
    "# Select table.wikitable with just the tbody tags getting the zeroth element gets rid of the array brackets in\n",
    "# the out put if confused just run: soup.select('table.wikitable') and see the output then run \n",
    "# soup.select('table.wikitable tbody') and check out the output\n",
    "full_table = soup.select('table.wikitable tbody')[0] \n",
    "print(full_table)\n"
   ]
  },
  {
   "cell_type": "markdown",
   "metadata": {},
   "source": [
    "## Extract Data to Pandas"
   ]
  },
  {
   "cell_type": "markdown",
   "metadata": {},
   "source": [
    "#### To build our pandas data frame we will need a list with all the column headings the column headings are in th tags"
   ]
  },
  {
   "cell_type": "markdown",
   "metadata": {},
   "source": [
    "##### We wil start the building process iteratively. It gets more refined as we go through each iteration"
   ]
  },
  {
   "cell_type": "markdown",
   "metadata": {},
   "source": [
    "# Task-3 \n",
    "### Select the table row and table headings from BeautifulSoup object"
   ]
  },
  {
   "cell_type": "code",
   "execution_count": 70,
   "metadata": {},
   "outputs": [
    {
     "name": "stdout",
     "output_type": "stream",
     "text": [
      "-----------\n",
      "Joined\n",
      "\n",
      "Name\n",
      "\n",
      "Titles\n",
      "\n",
      "Independent\n",
      "\n",
      "Notes\n",
      "\n"
     ]
    }
   ],
   "source": [
    "# Full table is still a beautifulSoup object select the table row and table headings from this object\n",
    "# Extract the table column headings\n",
    "# End result: A list with all the column headings\n",
    "\n",
    "table_head = full_table.select('th')\n",
    "\n",
    "print('-----------')\n",
    "for element in table_head:\n",
    "    print(element.text)"
   ]
  },
  {
   "cell_type": "code",
   "execution_count": 71,
   "metadata": {},
   "outputs": [
    {
     "name": "stdout",
     "output_type": "stream",
     "text": [
      "Joined\n",
      "Name\n",
      "Titles\n",
      "Independent\n",
      "Notes\n",
      "-----------\n",
      "['Joined', 'Name', 'Titles', 'Independent', 'Notes']\n"
     ]
    }
   ],
   "source": [
    "# Extract the table column headings\n",
    "# End result: A list with all the column headings\n",
    "\n",
    "# >> Let's try this again\n",
    "\n",
    "table_head = full_table.select('th')\n",
    "\n",
    "table_columns = []\n",
    "for element in table_head:\n",
    "    column_label = element.get_text(separator=\" \", strip=True)\n",
    "    table_columns.append(column_label)\n",
    "    print(column_label)\n",
    "\n",
    "print('-----------')\n",
    "print(table_columns)"
   ]
  },
  {
   "cell_type": "code",
   "execution_count": 72,
   "metadata": {},
   "outputs": [
    {
     "name": "stdout",
     "output_type": "stream",
     "text": [
      "['Joined', 'Name', 'Titles', 'Independent', 'Notes']\n"
     ]
    }
   ],
   "source": [
    "# Extract the table column headings\n",
    "# >> Iteration 3\n",
    "\n",
    "table_columns = []\n",
    "for element in table_head:\n",
    "    column_label = element.get_text(separator=\" \", strip=True)\n",
    "    column_label = column_label.replace(' ', '_')\n",
    "    table_columns.append(column_label)\n",
    "print(table_columns)"
   ]
  },
  {
   "cell_type": "code",
   "execution_count": 73,
   "metadata": {},
   "outputs": [
    {
     "name": "stdout",
     "output_type": "stream",
     "text": [
      "['Joined', 'Name', 'Titles', 'Independent', 'Notes']\n"
     ]
    }
   ],
   "source": [
    "# Extract the table column headings\n",
    "# End result: A list with all the column headings\n",
    "\n",
    "# >> Final Iteration\n",
    "\n",
    "import re\n",
    "# Suppose there is a dirty column name such as In_Transit_[c] which is very common\n",
    "# we can create a regex that says look for an _ followed by \\[ \\w means any word character that can capture\n",
    "# the c above followed by a right brecket \\] breckets have meaning in regex for groupings so we need to escape them.\n",
    "regex = re.compile('_\\[\\w\\]')\n",
    "\n",
    "table_columns = []\n",
    "for element in table_head:\n",
    "    column_label = element.get_text(separator=\" \", strip=True)\n",
    "    # If our column names had spaces you can replace the space with underscore using the line below\n",
    "    column_label = column_label.replace(' ', '_')\n",
    "    # Matching the regex pattern here\n",
    "    column_label = regex.sub('', column_label)\n",
    "    table_columns.append(column_label)\n",
    "print(table_columns)"
   ]
  },
  {
   "cell_type": "markdown",
   "metadata": {},
   "source": [
    "##### Selecting all the tr elements to get a list of table rows\n",
    "##### For creating a pandas dataframe we want multi dimensional list i.e a list for every row combined into a higher level list (list of lists)"
   ]
  },
  {
   "cell_type": "code",
   "execution_count": 74,
   "metadata": {},
   "outputs": [
    {
     "name": "stdout",
     "output_type": "stream",
     "text": [
      "[<tr>\n",
      "<th>Joined\n",
      "</th>\n",
      "<th>Name\n",
      "</th>\n",
      "<th>Titles\n",
      "</th>\n",
      "<th><a href=\"/wiki/Independent_director\" title=\"Independent director\">Independent</a>\n",
      "</th>\n",
      "<th>Notes\n",
      "</th></tr>, <tr>\n",
      "<td>2014<sup class=\"reference\" id=\"cite_ref-76\"><a href=\"#cite_note-76\">[76]</a></sup>\n",
      "</td>\n",
      "<td><a href=\"/wiki/Robyn_Denholm\" title=\"Robyn Denholm\">Robyn Denholm</a>\n",
      "</td>\n",
      "<td>Full-time Chairwoman of Tesla, Inc.; former CFO and Head of Strategy of <a href=\"/wiki/Telstra\" title=\"Telstra\">Telstra</a><sup class=\"reference\" id=\"cite_ref-cleantech_denholm_2018_77-0\"><a href=\"#cite_note-cleantech_denholm_2018-77\">[77]</a></sup>\n",
      "</td>\n",
      "<td>Yes\n",
      "</td>\n",
      "<td>As of March 2020, Denholm is the only Board member with automotive experience besides Musk.<sup class=\"reference\" id=\"cite_ref-78\"><a href=\"#cite_note-78\">[78]</a></sup> (Denholm served in finance and corporate reporting roles at Toyota Motor Corporation Australia from 1989–1996.)<sup class=\"reference\" id=\"cite_ref-cleantech_denholm_2018_77-1\"><a href=\"#cite_note-cleantech_denholm_2018-77\">[77]</a></sup>\n",
      "</td></tr>, <tr>\n",
      "<td>2004<sup class=\"reference\" id=\"cite_ref-:0_7-5\"><a href=\"#cite_note-:0-7\">[7]</a></sup>\n",
      "</td>\n",
      "<td><a href=\"/wiki/Elon_Musk\" title=\"Elon Musk\">Elon Musk</a>\n",
      "</td>\n",
      "<td>Co-founder, CEO and <a href=\"/wiki/Chief_product_officer\" title=\"Chief product officer\">Product Architect</a> of Tesla; founder, CEO and CTO of <a href=\"/wiki/SpaceX\" title=\"SpaceX\">SpaceX</a>; former Chairman of Tesla, Inc.; former Chairman of <a href=\"/wiki/SolarCity\" title=\"SolarCity\">SolarCity</a>\n",
      "</td>\n",
      "<td>No\n",
      "</td>\n",
      "<td>\n",
      "</td></tr>, <tr>\n",
      "<td>2004<sup class=\"reference\" id=\"cite_ref-Rapier2018_79-0\"><a href=\"#cite_note-Rapier2018-79\">[79]</a></sup>\n",
      "</td>\n",
      "<td><a href=\"/wiki/Kimbal_Musk\" title=\"Kimbal Musk\">Kimbal Musk</a>\n",
      "</td>\n",
      "<td>Board member, <a href=\"/wiki/SpaceX\" title=\"SpaceX\">SpaceX</a><sup class=\"reference\" id=\"cite_ref-80\"><a href=\"#cite_note-80\">[80]</a></sup>\n",
      "</td>\n",
      "<td>No\n",
      "</td>\n",
      "<td>\n",
      "</td></tr>, <tr>\n",
      "<td>2007<sup class=\"reference\" id=\"cite_ref-81\"><a href=\"#cite_note-81\">[81]</a></sup>\n",
      "</td>\n",
      "<td>Ira Ehrenpreis\n",
      "</td>\n",
      "<td>General Partner at Technology Partners<sup class=\"reference\" id=\"cite_ref-GTM_BOD_2019_73-1\"><a href=\"#cite_note-GTM_BOD_2019-73\">[73]</a></sup>\n",
      "</td>\n",
      "<td>Disputed<sup class=\"reference\" id=\"cite_ref-:14_68-1\"><a href=\"#cite_note-:14-68\">[68]</a></sup>\n",
      "</td>\n",
      "<td>\n",
      "</td></tr>, <tr>\n",
      "<td>2007<sup class=\"reference\" id=\"cite_ref-Rapier2018_79-1\"><a href=\"#cite_note-Rapier2018-79\">[79]</a></sup>\n",
      "</td>\n",
      "<td>Antonio J. Gracias\n",
      "</td>\n",
      "<td>CEO and Chairman of the Investment Committee at Valor Equity Partners<sup class=\"reference\" id=\"cite_ref-82\"><a href=\"#cite_note-82\">[82]</a></sup>\n",
      "</td>\n",
      "<td>Disputed<sup class=\"reference\" id=\"cite_ref-:14_68-2\"><a href=\"#cite_note-:14-68\">[68]</a></sup>\n",
      "</td>\n",
      "<td>Has agreed not to stand for re-election when his term expires on June 11, 2021.<sup class=\"reference\" id=\"cite_ref-Edgar2019_83-0\"><a href=\"#cite_note-Edgar2019-83\">[83]</a></sup>\n",
      "</td></tr>, <tr>\n",
      "<td>2017<sup class=\"reference\" id=\"cite_ref-GTM_BOD_2019_73-2\"><a href=\"#cite_note-GTM_BOD_2019-73\">[73]</a></sup>\n",
      "</td>\n",
      "<td><a href=\"/wiki/James_Murdoch\" title=\"James Murdoch\">James Murdoch</a>\n",
      "</td>\n",
      "<td>Former CEO of <a href=\"/wiki/21st_Century_Fox\" title=\"21st Century Fox\">21st Century Fox</a><sup class=\"reference\" id=\"cite_ref-GTM_BOD_2019_73-3\"><a href=\"#cite_note-GTM_BOD_2019-73\">[73]</a></sup>\n",
      "</td>\n",
      "<td>Yes\n",
      "</td>\n",
      "<td>\n",
      "</td></tr>, <tr>\n",
      "<td>2018<sup class=\"reference\" id=\"cite_ref-BI_BOD_2018_70-1\"><a href=\"#cite_note-BI_BOD_2018-70\">[70]</a></sup>\n",
      "</td>\n",
      "<td><a href=\"/wiki/Larry_Ellison\" title=\"Larry Ellison\">Larry Ellison</a>\n",
      "</td>\n",
      "<td>Co-founder, Chairman and CTO of <a href=\"/wiki/Oracle_Corporation\" title=\"Oracle Corporation\">Oracle Corporation</a><sup class=\"reference\" id=\"cite_ref-GTM_BOD_2019_73-4\"><a href=\"#cite_note-GTM_BOD_2019-73\">[73]</a></sup>\n",
      "</td>\n",
      "<td>Yes\n",
      "</td>\n",
      "<td>\n",
      "</td></tr>, <tr>\n",
      "<td>2018<sup class=\"reference\" id=\"cite_ref-BI_BOD_2018_70-2\"><a href=\"#cite_note-BI_BOD_2018-70\">[70]</a></sup>\n",
      "</td>\n",
      "<td><a href=\"/wiki/Kathleen_Wilson-Thompson\" title=\"Kathleen Wilson-Thompson\">Kathleen Wilson-Thompson</a>\n",
      "</td>\n",
      "<td>Global head of Human Resources of <a href=\"/wiki/Walgreens_Boots_Alliance\" title=\"Walgreens Boots Alliance\">Walgreens Boots Alliance</a><sup class=\"reference\" id=\"cite_ref-BI_BOD_2018_70-3\"><a href=\"#cite_note-BI_BOD_2018-70\">[70]</a></sup>\n",
      "</td>\n",
      "<td>Yes\n",
      "</td>\n",
      "<td>\n",
      "</td></tr>, <tr>\n",
      "<td>2020<sup class=\"reference\" id=\"cite_ref-84\"><a href=\"#cite_note-84\">[84]</a></sup>\n",
      "</td>\n",
      "<td><a href=\"/wiki/Hiromichi_Mizuno\" title=\"Hiromichi Mizuno\">Hiromichi Mizuno</a>\n",
      "</td>\n",
      "<td>United Nations Special Envoy on Innovative Finance and Sustainable Investments; former executive managing director and chief investment officer of <a href=\"/wiki/Government_Pension_Investment_Fund\" title=\"Government Pension Investment Fund\">Japan's Government Pension Investment Fund</a><sup class=\"reference\" id=\"cite_ref-85\"><a href=\"#cite_note-85\">[85]</a></sup>\n",
      "</td>\n",
      "<td>Yes\n",
      "</td>\n",
      "<td>\n",
      "</td></tr>]\n"
     ]
    }
   ],
   "source": [
    "# Extract the table data (rows)\n",
    "# End result: A multi-dimensional list containing a list for each row\n",
    "\n",
    "table_rows = full_table.select('tr')\n",
    "print(table_rows)"
   ]
  },
  {
   "cell_type": "markdown",
   "metadata": {},
   "source": [
    "##### And we also want to skip th as we dont need column headers anymore"
   ]
  },
  {
   "cell_type": "markdown",
   "metadata": {},
   "source": [
    "# Task-4\n",
    "##### For each table row i want the data for that row Fill in the missing part\n",
    "##### Hint: Go through the html of the webpage using chrome tools to figure out."
   ]
  },
  {
   "cell_type": "code",
   "execution_count": 75,
   "metadata": {},
   "outputs": [
    {
     "name": "stdout",
     "output_type": "stream",
     "text": [
      "[['2014[76]\\n', 'Robyn Denholm\\n', 'Full-time Chairwoman of Tesla, Inc.; former CFO and Head of Strategy of Telstra[77]\\n', 'Yes\\n', 'As of March 2020, Denholm is the only Board member with automotive experience besides Musk.[78] (Denholm served in finance and corporate reporting roles at Toyota Motor Corporation Australia from 1989–1996.)[77]\\n'], ['2004[7]\\n', 'Elon Musk\\n', 'Co-founder, CEO and Product Architect of Tesla; founder, CEO and CTO of SpaceX; former Chairman of Tesla, Inc.; former Chairman of SolarCity\\n', 'No\\n', '\\n'], ['2004[79]\\n', 'Kimbal Musk\\n', 'Board member, SpaceX[80]\\n', 'No\\n', '\\n'], ['2007[81]\\n', 'Ira Ehrenpreis\\n', 'General Partner at Technology Partners[73]\\n', 'Disputed[68]\\n', '\\n'], ['2007[79]\\n', 'Antonio J. Gracias\\n', 'CEO and Chairman of the Investment Committee at Valor Equity Partners[82]\\n', 'Disputed[68]\\n', 'Has agreed not to stand for re-election when his term expires on June 11, 2021.[83]\\n'], ['2017[73]\\n', 'James Murdoch\\n', 'Former CEO of 21st Century Fox[73]\\n', 'Yes\\n', '\\n'], ['2018[70]\\n', 'Larry Ellison\\n', 'Co-founder, Chairman and CTO of Oracle Corporation[73]\\n', 'Yes\\n', '\\n'], ['2018[70]\\n', 'Kathleen Wilson-Thompson\\n', 'Global head of Human Resources of Walgreens Boots Alliance[70]\\n', 'Yes\\n', '\\n'], ['2020[84]\\n', 'Hiromichi Mizuno\\n', \"United Nations Special Envoy on Innovative Finance and Sustainable Investments; former executive managing director and chief investment officer of Japan's Government Pension Investment Fund[85]\\n\", 'Yes\\n', '\\n']]\n"
     ]
    }
   ],
   "source": [
    "# Extract the table data (rows)\n",
    "# End result: A multi-dimensional list containing a list for each row\n",
    "\n",
    "# Iteration 2\n",
    "\n",
    "table_rows = full_table.select('tr')\n",
    "\n",
    "table_data = []\n",
    "for index, element in enumerate(table_rows):\n",
    "    # Skipping the first row\n",
    "    if index > 0:\n",
    "        # Building our row list\n",
    "        row_list = []\n",
    "        \n",
    "        values = element.find_all('td')\n",
    "        for value in values:\n",
    "            row_list.append(value.text)\n",
    "        table_data.append(row_list)\n",
    "\n",
    "print(table_data)"
   ]
  },
  {
   "cell_type": "markdown",
   "metadata": {},
   "source": [
    "##### The double brackets above means list of lists that pandas want i.e each row in a sub list seperated by comma but we can see \\n newline character that we dont want."
   ]
  },
  {
   "cell_type": "code",
   "execution_count": 76,
   "metadata": {},
   "outputs": [
    {
     "name": "stdout",
     "output_type": "stream",
     "text": [
      "[['2014[76]', 'Robyn Denholm', 'Full-time Chairwoman of Tesla, Inc.; former CFO and Head of Strategy of Telstra[77]', 'Yes', 'As of March 2020, Denholm is the only Board member with automotive experience besides Musk.[78] (Denholm served in finance and corporate reporting roles at Toyota Motor Corporation Australia from 1989–1996.)[77]'], ['2004[7]', 'Elon Musk', 'Co-founder, CEO and Product Architect of Tesla; founder, CEO and CTO of SpaceX; former Chairman of Tesla, Inc.; former Chairman of SolarCity', 'No', ''], ['2004[79]', 'Kimbal Musk', 'Board member, SpaceX[80]', 'No', ''], ['2007[81]', 'Ira Ehrenpreis', 'General Partner at Technology Partners[73]', 'Disputed[68]', ''], ['2007[79]', 'Antonio J. Gracias', 'CEO and Chairman of the Investment Committee at Valor Equity Partners[82]', 'Disputed[68]', 'Has agreed not to stand for re-election when his term expires on June 11, 2021.[83]'], ['2017[73]', 'James Murdoch', 'Former CEO of 21st Century Fox[73]', 'Yes', ''], ['2018[70]', 'Larry Ellison', 'Co-founder, Chairman and CTO of Oracle Corporation[73]', 'Yes', ''], ['2018[70]', 'Kathleen Wilson-Thompson', 'Global head of Human Resources of Walgreens Boots Alliance[70]', 'Yes', ''], ['2020[84]', 'Hiromichi Mizuno', \"United Nations Special Envoy on Innovative Finance and Sustainable Investments; former executive managing director and chief investment officer of Japan's Government Pension Investment Fund[85]\", 'Yes', '']]\n"
     ]
    }
   ],
   "source": [
    "# Extract the table data (rows)\n",
    "# End result: A multi-dimensional list containing a list for each row\n",
    "\n",
    "# Final Iteration\n",
    "\n",
    "table_rows = full_table.select('tr')\n",
    "table_data = []\n",
    "for index, element in enumerate(table_rows):\n",
    "    if index > 0:\n",
    "        row_list = []\n",
    "        values = element.find_all('td')\n",
    "        for value in values:\n",
    "            # Remember strip function? newlines are considered as white space so strip() gets rid of them \n",
    "            row_list.append(value.text.strip())\n",
    "        table_data.append(row_list)\n",
    "\n",
    "print(table_data)\n"
   ]
  },
  {
   "cell_type": "markdown",
   "metadata": {},
   "source": [
    "##### Just feed the table_data and table_columns into the pandas DataFrame function and we are done"
   ]
  },
  {
   "cell_type": "code",
   "execution_count": 77,
   "metadata": {
    "scrolled": true
   },
   "outputs": [
    {
     "data": {
      "text/html": [
       "<div>\n",
       "<style scoped>\n",
       "    .dataframe tbody tr th:only-of-type {\n",
       "        vertical-align: middle;\n",
       "    }\n",
       "\n",
       "    .dataframe tbody tr th {\n",
       "        vertical-align: top;\n",
       "    }\n",
       "\n",
       "    .dataframe thead th {\n",
       "        text-align: right;\n",
       "    }\n",
       "</style>\n",
       "<table border=\"1\" class=\"dataframe\">\n",
       "  <thead>\n",
       "    <tr style=\"text-align: right;\">\n",
       "      <th></th>\n",
       "      <th>Joined</th>\n",
       "      <th>Name</th>\n",
       "      <th>Titles</th>\n",
       "      <th>Independent</th>\n",
       "      <th>Notes</th>\n",
       "    </tr>\n",
       "  </thead>\n",
       "  <tbody>\n",
       "    <tr>\n",
       "      <th>0</th>\n",
       "      <td>2014[76]</td>\n",
       "      <td>Robyn Denholm</td>\n",
       "      <td>Full-time Chairwoman of Tesla, Inc.; former CF...</td>\n",
       "      <td>Yes</td>\n",
       "      <td>As of March 2020, Denholm is the only Board me...</td>\n",
       "    </tr>\n",
       "    <tr>\n",
       "      <th>1</th>\n",
       "      <td>2004[7]</td>\n",
       "      <td>Elon Musk</td>\n",
       "      <td>Co-founder, CEO and Product Architect of Tesla...</td>\n",
       "      <td>No</td>\n",
       "      <td></td>\n",
       "    </tr>\n",
       "    <tr>\n",
       "      <th>2</th>\n",
       "      <td>2004[79]</td>\n",
       "      <td>Kimbal Musk</td>\n",
       "      <td>Board member, SpaceX[80]</td>\n",
       "      <td>No</td>\n",
       "      <td></td>\n",
       "    </tr>\n",
       "    <tr>\n",
       "      <th>3</th>\n",
       "      <td>2007[81]</td>\n",
       "      <td>Ira Ehrenpreis</td>\n",
       "      <td>General Partner at Technology Partners[73]</td>\n",
       "      <td>Disputed[68]</td>\n",
       "      <td></td>\n",
       "    </tr>\n",
       "    <tr>\n",
       "      <th>4</th>\n",
       "      <td>2007[79]</td>\n",
       "      <td>Antonio J. Gracias</td>\n",
       "      <td>CEO and Chairman of the Investment Committee a...</td>\n",
       "      <td>Disputed[68]</td>\n",
       "      <td>Has agreed not to stand for re-election when h...</td>\n",
       "    </tr>\n",
       "    <tr>\n",
       "      <th>5</th>\n",
       "      <td>2017[73]</td>\n",
       "      <td>James Murdoch</td>\n",
       "      <td>Former CEO of 21st Century Fox[73]</td>\n",
       "      <td>Yes</td>\n",
       "      <td></td>\n",
       "    </tr>\n",
       "    <tr>\n",
       "      <th>6</th>\n",
       "      <td>2018[70]</td>\n",
       "      <td>Larry Ellison</td>\n",
       "      <td>Co-founder, Chairman and CTO of Oracle Corpora...</td>\n",
       "      <td>Yes</td>\n",
       "      <td></td>\n",
       "    </tr>\n",
       "    <tr>\n",
       "      <th>7</th>\n",
       "      <td>2018[70]</td>\n",
       "      <td>Kathleen Wilson-Thompson</td>\n",
       "      <td>Global head of Human Resources of Walgreens Bo...</td>\n",
       "      <td>Yes</td>\n",
       "      <td></td>\n",
       "    </tr>\n",
       "    <tr>\n",
       "      <th>8</th>\n",
       "      <td>2020[84]</td>\n",
       "      <td>Hiromichi Mizuno</td>\n",
       "      <td>United Nations Special Envoy on Innovative Fin...</td>\n",
       "      <td>Yes</td>\n",
       "      <td></td>\n",
       "    </tr>\n",
       "  </tbody>\n",
       "</table>\n",
       "</div>"
      ],
      "text/plain": [
       "     Joined                      Name  \\\n",
       "0  2014[76]             Robyn Denholm   \n",
       "1   2004[7]                 Elon Musk   \n",
       "2  2004[79]               Kimbal Musk   \n",
       "3  2007[81]            Ira Ehrenpreis   \n",
       "4  2007[79]        Antonio J. Gracias   \n",
       "5  2017[73]             James Murdoch   \n",
       "6  2018[70]             Larry Ellison   \n",
       "7  2018[70]  Kathleen Wilson-Thompson   \n",
       "8  2020[84]          Hiromichi Mizuno   \n",
       "\n",
       "                                              Titles   Independent  \\\n",
       "0  Full-time Chairwoman of Tesla, Inc.; former CF...           Yes   \n",
       "1  Co-founder, CEO and Product Architect of Tesla...            No   \n",
       "2                           Board member, SpaceX[80]            No   \n",
       "3         General Partner at Technology Partners[73]  Disputed[68]   \n",
       "4  CEO and Chairman of the Investment Committee a...  Disputed[68]   \n",
       "5                 Former CEO of 21st Century Fox[73]           Yes   \n",
       "6  Co-founder, Chairman and CTO of Oracle Corpora...           Yes   \n",
       "7  Global head of Human Resources of Walgreens Bo...           Yes   \n",
       "8  United Nations Special Envoy on Innovative Fin...           Yes   \n",
       "\n",
       "                                               Notes  \n",
       "0  As of March 2020, Denholm is the only Board me...  \n",
       "1                                                     \n",
       "2                                                     \n",
       "3                                                     \n",
       "4  Has agreed not to stand for re-election when h...  \n",
       "5                                                     \n",
       "6                                                     \n",
       "7                                                     \n",
       "8                                                     "
      ]
     },
     "execution_count": 77,
     "metadata": {},
     "output_type": "execute_result"
    }
   ],
   "source": [
    "# Create a Pandas DataFrame\n",
    "\n",
    "df = pd.DataFrame(table_data, columns=table_columns) \n",
    "df"
   ]
  },
  {
   "cell_type": "markdown",
   "metadata": {},
   "source": [
    "#### For persistence you can save all this hard work into a csv file using\n",
    "### df.to_csv(r'Path where you want to store the exported CSV file\\File Name.csv', index = False)"
   ]
  },
  {
   "cell_type": "markdown",
   "metadata": {},
   "source": [
    "### Now we can read this file and start the complete procedure starting  from week one.\n",
    "### A full Circle"
   ]
  },
  {
   "cell_type": "markdown",
   "metadata": {},
   "source": [
    "# Task-5 (Real World Problem)"
   ]
  },
  {
   "cell_type": "markdown",
   "metadata": {},
   "source": [
    "### Suppose I am interested in buying a tesla but i would like to perform some market research first.\n",
    "### I know that any new technology has issues at first which are settled overtime.\n",
    "### So, I found a website: https://www.bloomberg.com/graphics/2019-tesla-model-3-survey/\n",
    "### which has a barplot/histogram that shows minor issues and major issues reported overtime\n",
    "### before making a decision i wanted to scrape the data load it into a pandas dataframe and plot a curve for minor against major issues (Because i dont like histograms)\n",
    "### But when i tried to scrape the data i found out that the values that i am trying to scrape \n",
    "### (e.g Minor Issues = 63.7,Major Issues = 10.0 for Jan 2018 and so on) are being generated dynamically i.e. by javascript and i am not able to see those values in html.\n",
    "### I heard somewhere that BSDS students (4th sem) have done some web scrapping before so i decided to hire you as web scrapper to do this job for me (     without any pay ;-)      )"
   ]
  },
  {
   "cell_type": "code",
   "execution_count": 78,
   "metadata": {},
   "outputs": [],
   "source": [
    "from bs4 import BeautifulSoup as sp\n",
    "from selenium import webdriver\n",
    "import requests\n",
    "from getpass import getpass\n",
    "import lxml"
   ]
  },
  {
   "cell_type": "code",
   "execution_count": 84,
   "metadata": {},
   "outputs": [],
   "source": [
    "### your code starts here and can take on any number of cell you need Just get the job done :-) \n",
    "from selenium import webdriver\n",
    "from selenium.webdriver.common.keys import Keys\n",
    "from selenium.webdriver.chrome.options import Options\n",
    "\n",
    "chrome = Options()\n",
    "chrome.add_argument('--no-sandbox')\n",
    "x = webdriver.Chrome(options = chrome)\n",
    "x.get('https://www.bloomberg.com/graphics/2019-tesla-model-3-survey/')\n",
    "soup = BeautifulSoup(x.page_source,'lxml')"
   ]
  },
  {
   "cell_type": "code",
   "execution_count": 85,
   "metadata": {},
   "outputs": [],
   "source": [
    "x = soup.find_all(\"g\", {\"class\": \"series f series-0\"})[0]\n",
    "y = soup.find_all(\"g\", {\"class\": \"series f series-1\"})[0]\n",
    "x = x.select(\"rect\")\n",
    "y = y.select(\"rect\")"
   ]
  },
  {
   "cell_type": "code",
   "execution_count": 86,
   "metadata": {},
   "outputs": [
    {
     "data": {
      "text/plain": [
       "[<rect class=\"column\" height=\"99\" width=\"33.333333333333336\" x=\"0\" y=\"133\"></rect>,\n",
       " <rect class=\"column\" height=\"101\" width=\"33.333333333333336\" x=\"33.333333333333336\" y=\"131\"></rect>,\n",
       " <rect class=\"column\" height=\"95\" width=\"33.333333333333336\" x=\"66.66666666666667\" y=\"137\"></rect>,\n",
       " <rect class=\"column\" height=\"90\" width=\"33.333333333333336\" x=\"100\" y=\"142\"></rect>,\n",
       " <rect class=\"column\" height=\"98\" width=\"33.333333333333336\" x=\"133.33333333333334\" y=\"134\"></rect>,\n",
       " <rect class=\"column\" height=\"107\" width=\"33.333333333333336\" x=\"166.66666666666669\" y=\"125\"></rect>,\n",
       " <rect class=\"column\" height=\"118\" width=\"33.333333333333336\" x=\"200\" y=\"114\"></rect>,\n",
       " <rect class=\"column\" height=\"101\" width=\"33.333333333333336\" x=\"233.33333333333334\" y=\"131\"></rect>,\n",
       " <rect class=\"column\" height=\"118\" width=\"33.333333333333336\" x=\"266.6666666666667\" y=\"114\"></rect>,\n",
       " <rect class=\"column\" height=\"82\" width=\"33.333333333333336\" x=\"300\" y=\"150\"></rect>,\n",
       " <rect class=\"column\" height=\"72\" width=\"33.333333333333336\" x=\"333.33333333333337\" y=\"160\"></rect>,\n",
       " <rect class=\"column\" height=\"91\" width=\"33.333333333333336\" x=\"366.6666666666667\" y=\"141\"></rect>,\n",
       " <rect class=\"column\" height=\"79\" width=\"33.333333333333336\" x=\"400\" y=\"153\"></rect>,\n",
       " <rect class=\"column\" height=\"143\" width=\"33.333333333333336\" x=\"433.33333333333337\" y=\"89\"></rect>,\n",
       " <rect class=\"column\" height=\"109\" width=\"33.333333333333336\" x=\"466.6666666666667\" y=\"123\"></rect>,\n",
       " <rect class=\"column\" height=\"106\" width=\"33.333333333333336\" x=\"500.00000000000006\" y=\"126\"></rect>,\n",
       " <rect class=\"column\" height=\"86\" width=\"33.333333333333336\" x=\"533.3333333333334\" y=\"146\"></rect>,\n",
       " <rect class=\"column\" height=\"67\" width=\"33.333333333333336\" x=\"566.6666666666667\" y=\"165\"></rect>,\n",
       " <rect class=\"column\" height=\"81\" width=\"33.333333333333336\" x=\"600\" y=\"151\"></rect>,\n",
       " <rect class=\"column\" height=\"62\" width=\"33.333333333333336\" x=\"633.3333333333334\" y=\"170\"></rect>,\n",
       " <rect class=\"column\" height=\"49\" width=\"33.333333333333336\" x=\"666.6666666666667\" y=\"183\"></rect>]"
      ]
     },
     "execution_count": 86,
     "metadata": {},
     "output_type": "execute_result"
    }
   ],
   "source": [
    "x"
   ]
  },
  {
   "cell_type": "code",
   "execution_count": 87,
   "metadata": {},
   "outputs": [
    {
     "data": {
      "text/plain": [
       "[<rect class=\"column\" height=\"15\" width=\"33.333333333333336\" x=\"0\" y=\"118\"></rect>,\n",
       " <rect class=\"column\" height=\"22\" width=\"33.333333333333336\" x=\"33.333333333333336\" y=\"109\"></rect>,\n",
       " <rect class=\"column\" height=\"8\" width=\"33.333333333333336\" x=\"66.66666666666667\" y=\"129\"></rect>,\n",
       " <rect class=\"column\" height=\"3\" width=\"33.333333333333336\" x=\"100\" y=\"139\"></rect>,\n",
       " <rect class=\"column\" height=\"7\" width=\"33.333333333333336\" x=\"133.33333333333334\" y=\"127\"></rect>,\n",
       " <rect class=\"column\" height=\"13\" width=\"33.333333333333336\" x=\"166.66666666666669\" y=\"112\"></rect>,\n",
       " <rect class=\"column\" height=\"7\" width=\"33.333333333333336\" x=\"200\" y=\"107\"></rect>,\n",
       " <rect class=\"column\" height=\"11\" width=\"33.333333333333336\" x=\"233.33333333333334\" y=\"120\"></rect>,\n",
       " <rect class=\"column\" height=\"10\" width=\"33.333333333333336\" x=\"266.6666666666667\" y=\"104\"></rect>,\n",
       " <rect class=\"column\" height=\"9\" width=\"33.333333333333336\" x=\"300\" y=\"141\"></rect>,\n",
       " <rect class=\"column\" height=\"7\" width=\"33.333333333333336\" x=\"333.33333333333337\" y=\"153\"></rect>,\n",
       " <rect class=\"column\" height=\"8\" width=\"33.333333333333336\" x=\"366.6666666666667\" y=\"133\"></rect>,\n",
       " <rect class=\"column\" height=\"3\" width=\"33.333333333333336\" x=\"400\" y=\"150\"></rect>,\n",
       " <rect class=\"column\" height=\"16\" width=\"33.333333333333336\" x=\"433.33333333333337\" y=\"73\"></rect>,\n",
       " <rect class=\"column\" height=\"11\" width=\"33.333333333333336\" x=\"466.6666666666667\" y=\"112\"></rect>,\n",
       " <rect class=\"column\" height=\"8\" width=\"33.333333333333336\" x=\"500.00000000000006\" y=\"118\"></rect>,\n",
       " <rect class=\"column\" height=\"3\" width=\"33.333333333333336\" x=\"533.3333333333334\" y=\"143\"></rect>,\n",
       " <rect class=\"column\" height=\"4\" width=\"33.333333333333336\" x=\"566.6666666666667\" y=\"161\"></rect>,\n",
       " <rect class=\"column\" height=\"15\" width=\"33.333333333333336\" x=\"600\" y=\"136\"></rect>,\n",
       " <rect class=\"column\" height=\"3\" width=\"33.333333333333336\" x=\"633.3333333333334\" y=\"167\"></rect>,\n",
       " <rect class=\"column\" height=\"5\" width=\"33.333333333333336\" x=\"666.6666666666667\" y=\"178\"></rect>]"
      ]
     },
     "execution_count": 87,
     "metadata": {},
     "output_type": "execute_result"
    }
   ],
   "source": [
    "y"
   ]
  },
  {
   "cell_type": "code",
   "execution_count": 89,
   "metadata": {},
   "outputs": [
    {
     "data": {
      "text/plain": [
       "[63.87096774193548,\n",
       " 65.16129032258064,\n",
       " 61.29032258064516,\n",
       " 58.06451612903226,\n",
       " 63.2258064516129,\n",
       " 69.03225806451613,\n",
       " 76.12903225806451,\n",
       " 65.16129032258064,\n",
       " 76.12903225806451,\n",
       " 52.903225806451616,\n",
       " 46.45161290322581,\n",
       " 58.70967741935483,\n",
       " 50.967741935483865,\n",
       " 92.25806451612904,\n",
       " 70.3225806451613,\n",
       " 68.38709677419355,\n",
       " 55.483870967741936,\n",
       " 43.225806451612904,\n",
       " 52.25806451612903,\n",
       " 40.0,\n",
       " 31.61290322580645]"
      ]
     },
     "execution_count": 89,
     "metadata": {},
     "output_type": "execute_result"
    }
   ],
   "source": [
    "heightwhite = []\n",
    "\n",
    "for i in x:\n",
    "    heightwhite.append(float(i['height']))\n",
    "    \n",
    "for i in range(len(heightwhite)):     \n",
    "    heightwhite[i] = (heightwhite[i] / 155 * 100)\n",
    "    \n",
    "heightwhite"
   ]
  },
  {
   "cell_type": "code",
   "execution_count": 90,
   "metadata": {},
   "outputs": [
    {
     "data": {
      "text/plain": [
       "[9.67741935483871,\n",
       " 14.193548387096774,\n",
       " 5.161290322580645,\n",
       " 1.935483870967742,\n",
       " 4.516129032258064,\n",
       " 8.38709677419355,\n",
       " 4.516129032258064,\n",
       " 7.096774193548387,\n",
       " 6.451612903225806,\n",
       " 5.806451612903226,\n",
       " 4.516129032258064,\n",
       " 5.161290322580645,\n",
       " 1.935483870967742,\n",
       " 10.32258064516129,\n",
       " 7.096774193548387,\n",
       " 5.161290322580645,\n",
       " 1.935483870967742,\n",
       " 2.5806451612903225,\n",
       " 9.67741935483871,\n",
       " 1.935483870967742,\n",
       " 3.225806451612903]"
      ]
     },
     "execution_count": 90,
     "metadata": {},
     "output_type": "execute_result"
    }
   ],
   "source": [
    "heightblue = []\n",
    "\n",
    "for i in y:\n",
    "    heightblue.append(float(i['height']))\n",
    "    \n",
    "for i in range(len(heightblue)):     \n",
    "    heightblue[i] = (heightblue[i] / 155 * 100)\n",
    "    \n",
    "heightblue"
   ]
  },
  {
   "cell_type": "code",
   "execution_count": 91,
   "metadata": {},
   "outputs": [
    {
     "data": {
      "text/html": [
       "<div>\n",
       "<style scoped>\n",
       "    .dataframe tbody tr th:only-of-type {\n",
       "        vertical-align: middle;\n",
       "    }\n",
       "\n",
       "    .dataframe tbody tr th {\n",
       "        vertical-align: top;\n",
       "    }\n",
       "\n",
       "    .dataframe thead th {\n",
       "        text-align: right;\n",
       "    }\n",
       "</style>\n",
       "<table border=\"1\" class=\"dataframe\">\n",
       "  <thead>\n",
       "    <tr style=\"text-align: right;\">\n",
       "      <th></th>\n",
       "      <th>height in blue</th>\n",
       "      <th>height in white</th>\n",
       "    </tr>\n",
       "  </thead>\n",
       "  <tbody>\n",
       "    <tr>\n",
       "      <th>0</th>\n",
       "      <td>9.677419</td>\n",
       "      <td>63.870968</td>\n",
       "    </tr>\n",
       "    <tr>\n",
       "      <th>1</th>\n",
       "      <td>14.193548</td>\n",
       "      <td>65.161290</td>\n",
       "    </tr>\n",
       "    <tr>\n",
       "      <th>2</th>\n",
       "      <td>5.161290</td>\n",
       "      <td>61.290323</td>\n",
       "    </tr>\n",
       "    <tr>\n",
       "      <th>3</th>\n",
       "      <td>1.935484</td>\n",
       "      <td>58.064516</td>\n",
       "    </tr>\n",
       "    <tr>\n",
       "      <th>4</th>\n",
       "      <td>4.516129</td>\n",
       "      <td>63.225806</td>\n",
       "    </tr>\n",
       "    <tr>\n",
       "      <th>5</th>\n",
       "      <td>8.387097</td>\n",
       "      <td>69.032258</td>\n",
       "    </tr>\n",
       "    <tr>\n",
       "      <th>6</th>\n",
       "      <td>4.516129</td>\n",
       "      <td>76.129032</td>\n",
       "    </tr>\n",
       "    <tr>\n",
       "      <th>7</th>\n",
       "      <td>7.096774</td>\n",
       "      <td>65.161290</td>\n",
       "    </tr>\n",
       "    <tr>\n",
       "      <th>8</th>\n",
       "      <td>6.451613</td>\n",
       "      <td>76.129032</td>\n",
       "    </tr>\n",
       "    <tr>\n",
       "      <th>9</th>\n",
       "      <td>5.806452</td>\n",
       "      <td>52.903226</td>\n",
       "    </tr>\n",
       "    <tr>\n",
       "      <th>10</th>\n",
       "      <td>4.516129</td>\n",
       "      <td>46.451613</td>\n",
       "    </tr>\n",
       "    <tr>\n",
       "      <th>11</th>\n",
       "      <td>5.161290</td>\n",
       "      <td>58.709677</td>\n",
       "    </tr>\n",
       "    <tr>\n",
       "      <th>12</th>\n",
       "      <td>1.935484</td>\n",
       "      <td>50.967742</td>\n",
       "    </tr>\n",
       "    <tr>\n",
       "      <th>13</th>\n",
       "      <td>10.322581</td>\n",
       "      <td>92.258065</td>\n",
       "    </tr>\n",
       "    <tr>\n",
       "      <th>14</th>\n",
       "      <td>7.096774</td>\n",
       "      <td>70.322581</td>\n",
       "    </tr>\n",
       "    <tr>\n",
       "      <th>15</th>\n",
       "      <td>5.161290</td>\n",
       "      <td>68.387097</td>\n",
       "    </tr>\n",
       "    <tr>\n",
       "      <th>16</th>\n",
       "      <td>1.935484</td>\n",
       "      <td>55.483871</td>\n",
       "    </tr>\n",
       "    <tr>\n",
       "      <th>17</th>\n",
       "      <td>2.580645</td>\n",
       "      <td>43.225806</td>\n",
       "    </tr>\n",
       "    <tr>\n",
       "      <th>18</th>\n",
       "      <td>9.677419</td>\n",
       "      <td>52.258065</td>\n",
       "    </tr>\n",
       "    <tr>\n",
       "      <th>19</th>\n",
       "      <td>1.935484</td>\n",
       "      <td>40.000000</td>\n",
       "    </tr>\n",
       "    <tr>\n",
       "      <th>20</th>\n",
       "      <td>3.225806</td>\n",
       "      <td>31.612903</td>\n",
       "    </tr>\n",
       "  </tbody>\n",
       "</table>\n",
       "</div>"
      ],
      "text/plain": [
       "    height in blue  height in white\n",
       "0         9.677419        63.870968\n",
       "1        14.193548        65.161290\n",
       "2         5.161290        61.290323\n",
       "3         1.935484        58.064516\n",
       "4         4.516129        63.225806\n",
       "5         8.387097        69.032258\n",
       "6         4.516129        76.129032\n",
       "7         7.096774        65.161290\n",
       "8         6.451613        76.129032\n",
       "9         5.806452        52.903226\n",
       "10        4.516129        46.451613\n",
       "11        5.161290        58.709677\n",
       "12        1.935484        50.967742\n",
       "13       10.322581        92.258065\n",
       "14        7.096774        70.322581\n",
       "15        5.161290        68.387097\n",
       "16        1.935484        55.483871\n",
       "17        2.580645        43.225806\n",
       "18        9.677419        52.258065\n",
       "19        1.935484        40.000000\n",
       "20        3.225806        31.612903"
      ]
     },
     "execution_count": 91,
     "metadata": {},
     "output_type": "execute_result"
    }
   ],
   "source": [
    "z = pd.DataFrame({\"height in blue\": heightblue, \"height in white\": heightwhite})\n",
    "z"
   ]
  },
  {
   "cell_type": "code",
   "execution_count": 92,
   "metadata": {},
   "outputs": [],
   "source": [
    "import matplotlib.pyplot as plt"
   ]
  },
  {
   "cell_type": "code",
   "execution_count": 93,
   "metadata": {},
   "outputs": [
    {
     "data": {
      "text/plain": [
       "([<matplotlib.axis.XTick at 0x1e350309640>,\n",
       "  <matplotlib.axis.XTick at 0x1e350309610>,\n",
       "  <matplotlib.axis.XTick at 0x1e3502fe280>,\n",
       "  <matplotlib.axis.XTick at 0x1e350496670>,\n",
       "  <matplotlib.axis.XTick at 0x1e350496b80>,\n",
       "  <matplotlib.axis.XTick at 0x1e3504a50d0>,\n",
       "  <matplotlib.axis.XTick at 0x1e3504a55e0>,\n",
       "  <matplotlib.axis.XTick at 0x1e3504a5af0>,\n",
       "  <matplotlib.axis.XTick at 0x1e3504aa040>,\n",
       "  <matplotlib.axis.XTick at 0x1e3504aa550>,\n",
       "  <matplotlib.axis.XTick at 0x1e3504aaa60>,\n",
       "  <matplotlib.axis.XTick at 0x1e3504a5760>,\n",
       "  <matplotlib.axis.XTick at 0x1e3504967f0>,\n",
       "  <matplotlib.axis.XTick at 0x1e3504aa250>,\n",
       "  <matplotlib.axis.XTick at 0x1e3504b2160>,\n",
       "  <matplotlib.axis.XTick at 0x1e3504b2670>,\n",
       "  <matplotlib.axis.XTick at 0x1e3504b2b80>,\n",
       "  <matplotlib.axis.XTick at 0x1e3504b60d0>,\n",
       "  <matplotlib.axis.XTick at 0x1e3504b65e0>,\n",
       "  <matplotlib.axis.XTick at 0x1e3504b6af0>,\n",
       "  <matplotlib.axis.XTick at 0x1e3504bc040>,\n",
       "  <matplotlib.axis.XTick at 0x1e3504b6220>],\n",
       " [Text(0, 0, 'Jan-18'),\n",
       "  Text(0, 0, 'Feb-18'),\n",
       "  Text(0, 0, 'March-18'),\n",
       "  Text(0, 0, 'April-18'),\n",
       "  Text(0, 0, 'May-18'),\n",
       "  Text(0, 0, 'June-18'),\n",
       "  Text(0, 0, 'July-18'),\n",
       "  Text(0, 0, 'August-18'),\n",
       "  Text(0, 0, 'Sept-18'),\n",
       "  Text(0, 0, 'Oct-18'),\n",
       "  Text(0, 0, 'Nov-18'),\n",
       "  Text(0, 0, 'Dec-18'),\n",
       "  Text(0, 0, 'Jan-19'),\n",
       "  Text(0, 0, 'Feb-19'),\n",
       "  Text(0, 0, 'March-19'),\n",
       "  Text(0, 0, 'April-19'),\n",
       "  Text(0, 0, 'May-19'),\n",
       "  Text(0, 0, 'June-19'),\n",
       "  Text(0, 0, 'July-19'),\n",
       "  Text(0, 0, 'August-19'),\n",
       "  Text(0, 0, 'Sept-19')])"
      ]
     },
     "execution_count": 93,
     "metadata": {},
     "output_type": "execute_result"
    },
    {
     "data": {
      "image/png": "[encoded data removed]",
      "text/plain": [
       "<Figure size 1440x936 with 1 Axes>"
      ]
     },
     "metadata": {
      "needs_background": "light"
     },
     "output_type": "display_data"
    }
   ],
   "source": [
    "plt.figure(figsize=(20,13))\n",
    "plt.plot(heightwhite)\n",
    "plt.plot(heightblue)\n",
    "\n",
    "plt.xticks([0,1,2,3,4,5,6,7,8,9,10,11,12,13,14,15,16,17,18,19,20,21],['Jan-18','Feb-18','March-18','April-18','May-18','June-18','July-18','August-18','Sept-18','Oct-18','Nov-18','Dec-18','Jan-19','Feb-19','March-19','April-19','May-19','June-19','July-19','August-19','Sept-19'])\n"
   ]
  },
  {
   "cell_type": "code",
   "execution_count": null,
   "metadata": {},
   "outputs": [],
   "source": []
  }
 ],
 "metadata": {
  "kernelspec": {
   "display_name": "Python 3",
   "language": "python",
   "name": "python3"
  },
  "language_info": {
   "codemirror_mode": {
    "name": "ipython",
    "version": 3
   },
   "file_extension": ".py",
   "mimetype": "text/x-python",
   "name": "python",
   "nbconvert_exporter": "python",
   "pygments_lexer": "ipython3",
   "version": "3.8.3"
  },
  "pycharm": {
   "stem_cell": {
    "cell_type": "raw",
    "metadata": {
     "collapsed": false
    },
    "source": []
   }
  }
 },
 "nbformat": 4,
 "nbformat_minor": 4
}
