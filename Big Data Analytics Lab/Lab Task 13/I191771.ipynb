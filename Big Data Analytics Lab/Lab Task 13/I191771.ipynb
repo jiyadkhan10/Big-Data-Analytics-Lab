{
 "cells": [
  {
   "cell_type": "code",
   "execution_count": 1,
   "metadata": {},
   "outputs": [
    {
     "name": "stdout",
     "output_type": "stream",
     "text": [
      "/usr/bin/python3\r\n"
     ]
    }
   ],
   "source": [
    "!which python3"
   ]
  },
  {
   "cell_type": "code",
   "execution_count": 2,
   "metadata": {},
   "outputs": [],
   "source": [
    "import os\n",
    "\n",
    "os.environ['PYSPARK_PYTHON'] = '/usr/bin/python3'"
   ]
  },
  {
   "cell_type": "code",
   "execution_count": 4,
   "metadata": {},
   "outputs": [],
   "source": [
    "from pyspark.sql import SparkSession\n",
    "import os"
   ]
  },
  {
   "cell_type": "code",
   "execution_count": 5,
   "metadata": {},
   "outputs": [],
   "source": [
    "absolute_file_path = \"nasa-patents.xml\""
   ]
  },
  {
   "cell_type": "code",
   "execution_count": 7,
   "metadata": {},
   "outputs": [],
   "source": [
    "Jiyad_spark = SparkSession.builder.appName(\"Jiyad Khan i19-1771 XML to Dataframe\") \\\n",
    "    .master(\"local[*]\") \\\n",
    "    .config(\"spark.jars.packages\", \"com.databricks:spark-xml_2.12:0.9.0\") \\\n",
    "    .getOrCreate()"
   ]
  },
  {
   "cell_type": "code",
   "execution_count": 8,
   "metadata": {},
   "outputs": [
    {
     "data": {
      "text/html": [
       "\n",
       "            <div>\n",
       "                <p><b>SparkSession - in-memory</b></p>\n",
       "                \n",
       "        <div>\n",
       "            <p><b>SparkContext</b></p>\n",
       "\n",
       "            <p><a href=\"http://localhost:4040\">Spark UI</a></p>\n",
       "\n",
       "            <dl>\n",
       "              <dt>Version</dt>\n",
       "                <dd><code>v3.1.1</code></dd>\n",
       "              <dt>Master</dt>\n",
       "                <dd><code>local[*]</code></dd>\n",
       "              <dt>AppName</dt>\n",
       "                <dd><code>Jiyad Khan i19-1771 XML to Dataframe</code></dd>\n",
       "            </dl>\n",
       "        </div>\n",
       "        \n",
       "            </div>\n",
       "        "
      ],
      "text/plain": [
       "<pyspark.sql.session.SparkSession at 0x7f2cc442c5b0>"
      ]
     },
     "execution_count": 8,
     "metadata": {},
     "output_type": "execute_result"
    }
   ],
   "source": [
    "Jiyad_spark"
   ]
  },
  {
   "cell_type": "code",
   "execution_count": 9,
   "metadata": {},
   "outputs": [
    {
     "name": "stdout",
     "output_type": "stream",
     "text": [
      "+--------------------+----+----------+--------------------+--------------+--------------+--------------------+----------------------+-------------+-----------+--------------------+\n",
      "|           __address|__id|__position|              __uuid|application_sn|   case_number|              center|patent_expiration_date|patent_number|     status|               title|\n",
      "+--------------------+----+----------+--------------------+--------------+--------------+--------------------+----------------------+-------------+-----------+--------------------+\n",
      "|https://data.nasa...| 407|       407|2311F785-C00F-422...|    13/033,085|     KSC-12871|NASA Kennedy Spac...|                  null|            0|Application|Polyimide Wire In...|\n",
      "|https://data.nasa...|   1|         1|BAC69188-84A6-4D2...|    08/543,093|   ARC-14048-1|NASA Ames Researc...|   2015-10-03T00:00:00|      5694939|     Issued|Autogenic-Feedbac...|\n",
      "|https://data.nasa...|   2|         2|23D6A5BD-26E2-42D...|    09/017,519|   ARC-14231-1|NASA Ames Researc...|   2017-02-04T00:00:00|      6109270|     Issued|Multimodality Ins...|\n",
      "|https://data.nasa...|   3|         3|F8052701-E520-43A...|    10/874,003|ARC-14231-2DIV|NASA Ames Researc...|   2024-06-16T00:00:00|      6976013|     Issued|Metrics For Body ...|\n",
      "|https://data.nasa...|   4|         4|20A4C4A9-EEB6-45D...|    09/652,299|   ARC-14231-3|NASA Ames Researc...|   2017-02-04T00:00:00|      6718196|     Issued|Multimodality Ins...|\n",
      "+--------------------+----+----------+--------------------+--------------+--------------+--------------------+----------------------+-------------+-----------+--------------------+\n",
      "only showing top 5 rows\n",
      "\n"
     ]
    }
   ],
   "source": [
    "df = Jiyad_spark.read.format(\"xml\") \\\n",
    "        .option(\"rowTag\", \"row\") \\\n",
    "        .load(absolute_file_path)\n",
    "\n",
    "df.show(5)"
   ]
  },
  {
   "cell_type": "code",
   "execution_count": 10,
   "metadata": {},
   "outputs": [],
   "source": [
    "df.write.format(\"com.databricks.spark.csv\").save('XML to CSV.csv')"
   ]
  },
  {
   "cell_type": "code",
   "execution_count": 11,
   "metadata": {},
   "outputs": [
    {
     "name": "stdout",
     "output_type": "stream",
     "text": [
      "root\n",
      " |-- __address: string (nullable = true)\n",
      " |-- __id: long (nullable = true)\n",
      " |-- __position: long (nullable = true)\n",
      " |-- __uuid: string (nullable = true)\n",
      " |-- application_sn: string (nullable = true)\n",
      " |-- case_number: string (nullable = true)\n",
      " |-- center: string (nullable = true)\n",
      " |-- patent_expiration_date: string (nullable = true)\n",
      " |-- patent_number: string (nullable = true)\n",
      " |-- status: string (nullable = true)\n",
      " |-- title: string (nullable = true)\n",
      "\n"
     ]
    }
   ],
   "source": [
    "df.printSchema()"
   ]
  },
  {
   "cell_type": "code",
   "execution_count": 12,
   "metadata": {},
   "outputs": [],
   "source": [
    "spark.stop()"
   ]
  },
  {
   "cell_type": "code",
   "execution_count": null,
   "metadata": {},
   "outputs": [],
   "source": []
  }
 ],
 "metadata": {
  "kernelspec": {
   "display_name": "Python 3",
   "language": "python",
   "name": "python3"
  },
  "language_info": {
   "codemirror_mode": {
    "name": "ipython",
    "version": 3
   },
   "file_extension": ".py",
   "mimetype": "text/x-python",
   "name": "python",
   "nbconvert_exporter": "python",
   "pygments_lexer": "ipython3",
   "version": "3.8.3"
  }
 },
 "nbformat": 4,
 "nbformat_minor": 5
}
